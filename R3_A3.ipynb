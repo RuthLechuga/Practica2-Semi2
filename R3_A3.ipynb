{
 "metadata": {
  "language_info": {
   "codemirror_mode": {
    "name": "ipython",
    "version": 3
   },
   "file_extension": ".py",
   "mimetype": "text/x-python",
   "name": "python",
   "nbconvert_exporter": "python",
   "pygments_lexer": "ipython3",
   "version": "3.8.6-final"
  },
  "orig_nbformat": 2,
  "kernelspec": {
   "name": "Python 3.8.6 64-bit",
   "display_name": "Python 3.8.6 64-bit",
   "metadata": {
    "interpreter": {
     "hash": "cac461de0d9f25859b3c9e2f4dde92c552a0f365d3afb87494dd923304f6e5e6"
    }
   }
  }
 },
 "nbformat": 4,
 "nbformat_minor": 2,
 "cells": [
  {
   "cell_type": "code",
   "execution_count": 1,
   "metadata": {},
   "outputs": [],
   "source": [
    "import findspark\n",
    "findspark.init()\n",
    "# Creating Spark Context\n",
    "from pyspark import SparkContext\n",
    "from pyspark.sql.session import SparkSession\n",
    "sc = SparkContext(\"local\", \"first app\")\n",
    "spark = SparkSession(sc)\n",
    "import plotly.graph_objects as go\n",
    "from pyspark.sql import SQLContext\n",
    "sqlContext = SQLContext(sc)"
   ]
  },
  {
   "cell_type": "code",
   "execution_count": 2,
   "metadata": {},
   "outputs": [],
   "source": [
    "text_file = sqlContext.read.format('com.databricks.spark.csv').options(header='true', inferschema='true', quote='\"', delimiter=',').load(\"C:\\\\Users\\\\mini_\\\\Desktop\\Practica-Semi2\\\\archivos\\\\Covid19.csv\")\n",
    "rddfiltro = text_file.rdd.map(tuple)"
   ]
  },
  {
   "cell_type": "code",
   "execution_count": 3,
   "metadata": {},
   "outputs": [
    {
     "output_type": "execute_result",
     "data": {
      "text/plain": [
       "[('Afghanistan', 0, 0, 9),\n",
       " ('Afghanistan', 125, 4, 9),\n",
       " ('Afghanistan', 47, 1, 9),\n",
       " ('Afghanistan', 0, 0, 9),\n",
       " ('Afghanistan', 17, 0, 9),\n",
       " ('Afghanistan', 40, 10, 9),\n",
       " ('Afghanistan', 99, 6, 9),\n",
       " ('Afghanistan', 75, 0, 9),\n",
       " ('Afghanistan', 35, 0, 9),\n",
       " ('Afghanistan', 34, 0, 9)]"
      ]
     },
     "metadata": {},
     "execution_count": 3
    }
   ],
   "source": [
    "#se toma el pais, numeros de casos, numero de muertes y el numero de mes\n",
    "rddCOVID= rddfiltro.map(lambda word: (word[7],word[5],word[6],word[2]))\n",
    "rddCOVID.take(10)"
   ]
  },
  {
   "cell_type": "code",
   "execution_count": 4,
   "metadata": {},
   "outputs": [
    {
     "output_type": "stream",
     "name": "stdout",
     "text": [
      "Resultados filtrados-> [('Guatemala', 233, 12, 8), ('Guatemala', 758, 19, 8), ('Guatemala', 1065, 24, 8), ('Guatemala', 1142, 23, 8), ('Guatemala', 1063, 32, 8), ('Guatemala', 1118, 19, 8), ('Guatemala', 345, 17, 8), ('Guatemala', 332, 14, 8), ('Guatemala', 915, 48, 8), ('Guatemala', 958, 26, 8), ('Guatemala', 1102, 39, 8), ('Guatemala', 1034, 48, 8), ('Guatemala', 903, 30, 8), ('Guatemala', 382, 10, 8), ('Guatemala', 249, 24, 8), ('Guatemala', 885, 14, 8), ('Guatemala', 1144, 45, 8), ('Guatemala', 1195, 29, 8), ('Guatemala', 1123, 34, 8), ('Guatemala', 979, 11, 8), ('Guatemala', 382, 11, 8), ('Guatemala', 416, 14, 8), ('Guatemala', 919, 29, 8), ('Guatemala', 931, 49, 8), ('Guatemala', 830, 47, 8), ('Guatemala', 1144, 35, 8), ('Guatemala', 823, 24, 8), ('Guatemala', 236, 18, 8), ('Guatemala', 327, 36, 8), ('Guatemala', 1190, 35, 8), ('Guatemala', 963, 57, 8)]\n"
     ]
    }
   ],
   "source": [
    "#Se filtra para solo obtener el mes de agosto y Guatemala\n",
    "rddAGOSTO = rddCOVID.filter(lambda x: \"Guatemala\" in x[0] and x[3]==8)\n",
    "print(\"Resultados filtrados-> %s\" % rddAGOSTO.collect())"
   ]
  },
  {
   "cell_type": "code",
   "execution_count": 5,
   "metadata": {},
   "outputs": [
    {
     "output_type": "stream",
     "name": "stdout",
     "text": [
      "Nombres -> ['Casos', 'Muertes']\nValores -> [25086, 873]\n"
     ]
    }
   ],
   "source": [
    "sumCasos = rddAGOSTO.map(lambda x: x[1]).sum()\n",
    "sumMuertes = rddAGOSTO.map(lambda x: x[2]).sum()\n",
    "rddNombres = sc.parallelize([\"Casos\",\"Muertes\"])\n",
    "rddRESULT = sc.parallelize([sumCasos, sumMuertes])\n",
    "print(\"Nombres -> %s\" % rddNombres.collect())\n",
    "print(\"Valores -> %s\" % rddRESULT.collect())"
   ]
  },
  {
   "cell_type": "code",
   "execution_count": 6,
   "metadata": {},
   "outputs": [],
   "source": [
    "#Graficando pie\n",
    "fig = go.Figure(data=go.Pie(labels=rddNombres.collect(),values=rddRESULT.collect()))\n",
    "fig.update_layout(title_text='Casos y muertes Covid Guatemala en Agosto',title_font_size=30)\n",
    "fig.update_traces(hoverinfo='label+percent', textinfo='value', textfont_size=20)\n",
    "fig.write_html('R3_A3.html', auto_open=True)"
   ]
  },
  {
   "cell_type": "code",
   "execution_count": null,
   "metadata": {},
   "outputs": [],
   "source": []
  }
 ]
}