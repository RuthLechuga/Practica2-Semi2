{
 "metadata": {
  "language_info": {
   "codemirror_mode": {
    "name": "ipython",
    "version": 3
   },
   "file_extension": ".py",
   "mimetype": "text/x-python",
   "name": "python",
   "nbconvert_exporter": "python",
   "pygments_lexer": "ipython3",
   "version": "3.8.6-final"
  },
  "orig_nbformat": 2,
  "kernelspec": {
   "name": "Python 3.8.6 64-bit",
   "display_name": "Python 3.8.6 64-bit",
   "metadata": {
    "interpreter": {
     "hash": "cac461de0d9f25859b3c9e2f4dde92c552a0f365d3afb87494dd923304f6e5e6"
    }
   }
  }
 },
 "nbformat": 4,
 "nbformat_minor": 2,
 "cells": [
  {
   "cell_type": "code",
   "execution_count": 1,
   "metadata": {},
   "outputs": [],
   "source": [
    "import findspark\n",
    "findspark.init()\n",
    "# Creating Spark Context\n",
    "from pyspark import SparkContext\n",
    "from pyspark.sql.session import SparkSession\n",
    "sc = SparkContext(\"local\", \"first app\")\n",
    "spark = SparkSession(sc)\n",
    "import plotly.graph_objects as go\n",
    "from pyspark.sql import SQLContext\n",
    "sqlContext = SQLContext(sc)"
   ]
  },
  {
   "cell_type": "code",
   "execution_count": 2,
   "metadata": {},
   "outputs": [],
   "source": [
    "text_file = sqlContext.read.format('com.databricks.spark.csv').options(header='true', inferschema='true', quote='\"', delimiter=',').load(\"C:\\\\Users\\\\mini_\\\\Desktop\\Practica-Semi2\\\\archivos\\\\TraficoAereoGt.csv\")\n",
    "rddfiltro = text_file.rdd.map(tuple)"
   ]
  },
  {
   "cell_type": "code",
   "execution_count": 3,
   "metadata": {},
   "outputs": [
    {
     "output_type": "execute_result",
     "data": {
      "text/plain": [
       "[('01', 195),\n",
       " ('02', 112),\n",
       " ('03', 159),\n",
       " ('04', 193),\n",
       " ('05', 82),\n",
       " ('06', 143),\n",
       " ('07', 91),\n",
       " ('08', 196),\n",
       " ('09', 176),\n",
       " ('10', 119)]"
      ]
     },
     "metadata": {},
     "execution_count": 3
    }
   ],
   "source": [
    "rddAERO= rddfiltro.map(lambda word: (word[0].split('/')[1],word[5]))\n",
    "rddAERO.take(10)"
   ]
  },
  {
   "cell_type": "code",
   "execution_count": 4,
   "metadata": {},
   "outputs": [
    {
     "output_type": "stream",
     "name": "stdout",
     "text": [
      "Conteo total -> [('01', 6034), ('02', 5912), ('03', 5600), ('04', 5723), ('05', 5690), ('06', 5476), ('07', 5972), ('08', 5850), ('09', 5425), ('10', 5347), ('11', 6467), ('12', 5862)]\n"
     ]
    }
   ],
   "source": [
    "rddCONT=rddAERO.reduceByKey(lambda a,b: a+b)\n",
    "print(\"Conteo total -> %s\" % rddCONT.collect())"
   ]
  },
  {
   "cell_type": "code",
   "execution_count": 5,
   "metadata": {},
   "outputs": [
    {
     "output_type": "stream",
     "name": "stdout",
     "text": [
      "Top 3 meses con mayor número de pasajeros de salida[('11', 6467), ('01', 6034), ('07', 5972)]\n"
     ]
    }
   ],
   "source": [
    "#Top 3 meses con mayor número de pasajeros\n",
    "rddORDEN= sc.parallelize(rddCONT.sortBy(lambda a: a[1],False).take(3))\n",
    "print(\"Top 3 meses con mayor número de pasajeros de salida%s\"%rddORDEN.collect())"
   ]
  },
  {
   "cell_type": "code",
   "execution_count": 6,
   "metadata": {},
   "outputs": [
    {
     "output_type": "stream",
     "name": "stdout",
     "text": [
      "['11', '01', '07']\n",
      "[6467, 6034, 5972]\n"
     ]
    }
   ],
   "source": [
    "#Separando nombres y totales\n",
    "#Vista de datos\n",
    "rddNombres = rddORDEN.map(lambda x: (x[0]))\n",
    "rddTotales = rddORDEN.map(lambda x: (x[1]))\n",
    "print(rddNombres.collect())\n",
    "print(rddTotales.collect())"
   ]
  },
  {
   "cell_type": "code",
   "execution_count": 7,
   "metadata": {},
   "outputs": [],
   "source": [
    "#Graficando pie\n",
    "fig = go.Figure(data=go.Pie(labels=rddNombres.collect(),values=rddTotales.collect()))\n",
    "fig.update_layout(title_text='3 primeros meses con mayor número de pasajeros de salida.',title_font_size=30)\n",
    "fig.update_traces(hoverinfo='label+percent', textinfo='value', textfont_size=20)\n",
    "fig.write_html('R2_A2.html', auto_open=True)"
   ]
  },
  {
   "cell_type": "code",
   "execution_count": null,
   "metadata": {},
   "outputs": [],
   "source": []
  }
 ]
}