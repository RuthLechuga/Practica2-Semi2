{
 "metadata": {
  "language_info": {
   "codemirror_mode": {
    "name": "ipython",
    "version": 3
   },
   "file_extension": ".py",
   "mimetype": "text/x-python",
   "name": "python",
   "nbconvert_exporter": "python",
   "pygments_lexer": "ipython3",
   "version": "3.8.6-final"
  },
  "orig_nbformat": 2,
  "kernelspec": {
   "name": "Python 3.8.6 64-bit",
   "display_name": "Python 3.8.6 64-bit",
   "metadata": {
    "interpreter": {
     "hash": "cac461de0d9f25859b3c9e2f4dde92c552a0f365d3afb87494dd923304f6e5e6"
    }
   }
  }
 },
 "nbformat": 4,
 "nbformat_minor": 2,
 "cells": [
  {
   "cell_type": "code",
   "execution_count": 1,
   "metadata": {},
   "outputs": [],
   "source": [
    "import findspark\n",
    "findspark.init()\n",
    "# Creating Spark Context\n",
    "from pyspark import SparkContext\n",
    "from pyspark.sql.session import SparkSession\n",
    "sc = SparkContext(\"local\", \"first app\")\n",
    "spark = SparkSession(sc)\n",
    "import plotly.graph_objects as go\n",
    "from pyspark.sql import SQLContext\n",
    "sqlContext = SQLContext(sc)"
   ]
  },
  {
   "cell_type": "code",
   "execution_count": 2,
   "metadata": {},
   "outputs": [],
   "source": [
    "text_file = sqlContext.read.format('com.databricks.spark.csv').options(header='true', inferschema='true', quote='\"', delimiter=',').load(\"C:\\\\Users\\\\mini_\\\\Desktop\\Practica-Semi2\\\\archivos\\\\GuatemalaExportsTo.csv\")\n",
    "rddfiltro = text_file.rdd.map(tuple)"
   ]
  },
  {
   "cell_type": "code",
   "execution_count": 3,
   "metadata": {},
   "outputs": [
    {
     "output_type": "execute_result",
     "data": {
      "text/plain": [
       "[('China', 18490000.0),\n",
       " ('China', 9830000.0),\n",
       " ('China', 8360000.0),\n",
       " ('China', 7110000.0),\n",
       " ('China', 4070000.0),\n",
       " ('China', 2590000.0),\n",
       " ('China', 2140000.0),\n",
       " ('China', 2130000.0),\n",
       " ('China', 2020000.0),\n",
       " ('China', 965560.0)]"
      ]
     },
     "metadata": {},
     "execution_count": 3
    }
   ],
   "source": [
    "#se toman los aeropuertos y aterrizajes \n",
    "rddEXPORTS= rddfiltro.map(lambda word: (word[4],word[1]))\n",
    "rddEXPORTS.take(10)"
   ]
  },
  {
   "cell_type": "code",
   "execution_count": 5,
   "metadata": {},
   "outputs": [
    {
     "output_type": "stream",
     "name": "stdout",
     "text": [
      "Conteo total -> [('China', 64176766.0), ('Mexico', 511215129.0), ('Canada', 222575942.0), ('Japon', 164579976.0), ('United Kingdom', 101910872.0), ('Costa Rica', 428419775.0), ('Saudi Arabia', 111274535.0), ('Gabon', 6420.0), ('Italy', 166680831.0), ('France', 34023574.0), ('Brazil', 39146101.0), ('Germany', 144422819.0), ('Honduras', 967311616.0), ('Venezuela', 14998293.0), ('El Salvador', 1217138626.0), ('United States', 3803123168.0)]\n"
     ]
    }
   ],
   "source": [
    "#se suman todas las exportaciones reduciendo por la clave pais\n",
    "rddCONT=rddEXPORTS.reduceByKey(lambda a,b: a+b)\n",
    "print(\"Conteo total -> %s\" % rddCONT.collect())"
   ]
  },
  {
   "cell_type": "code",
   "execution_count": 7,
   "metadata": {},
   "outputs": [
    {
     "output_type": "stream",
     "name": "stdout",
     "text": [
      "Mayor -> [('United States', 3803123168.0)]\n"
     ]
    }
   ],
   "source": [
    "#se ordenan los valores y se toma el mayor\n",
    "rddORDEN= sc.parallelize(rddCONT.sortBy(lambda a: a[1],False).take(1))\n",
    "print(\"Mayor -> %s\"%rddORDEN.collect())"
   ]
  },
  {
   "cell_type": "code",
   "execution_count": 8,
   "metadata": {},
   "outputs": [
    {
     "output_type": "stream",
     "name": "stdout",
     "text": [
      "['United States']\n",
      "[3803123168.0]\n"
     ]
    }
   ],
   "source": [
    "#se separan los nombre de los aeropuertos y totales\n",
    "rddNombres = rddORDEN.map(lambda x: (x[0]))\n",
    "rddTotales = rddORDEN.map(lambda x: (x[1]))\n",
    "print(rddNombres.collect())\n",
    "print(rddTotales.collect())"
   ]
  },
  {
   "cell_type": "code",
   "execution_count": 10,
   "metadata": {},
   "outputs": [],
   "source": [
    "#se realiza la gráfica de barras\n",
    "fig = go.Figure(data=go.Bar(x=rddNombres.collect(),y=rddTotales.collect()))\n",
    "fig.update_layout(title_text='Pais con mayor exportaciones',title_font_size=30,\n",
    "                  yaxis=dict(title='Total de exportaciones',title_font_size=25),\n",
    "                  xaxis=dict(title='Nombre Pais',title_font_size=25))\n",
    "fig.update_traces(overwrite=True, marker={\"opacity\": 0.5})\n",
    "fig.write_html('R1_A1.html', auto_open=True)"
   ]
  },
  {
   "cell_type": "code",
   "execution_count": null,
   "metadata": {},
   "outputs": [],
   "source": []
  }
 ]
}