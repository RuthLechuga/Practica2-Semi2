{
 "metadata": {
  "language_info": {
   "codemirror_mode": {
    "name": "ipython",
    "version": 3
   },
   "file_extension": ".py",
   "mimetype": "text/x-python",
   "name": "python",
   "nbconvert_exporter": "python",
   "pygments_lexer": "ipython3",
   "version": "3.8.6-final"
  },
  "orig_nbformat": 2,
  "kernelspec": {
   "name": "Python 3.8.6 64-bit",
   "display_name": "Python 3.8.6 64-bit",
   "metadata": {
    "interpreter": {
     "hash": "91269677021c82f3867f2b86425d8ceca1e146cc9dd00893703cd37fb7d8a8e2"
    }
   }
  }
 },
 "nbformat": 4,
 "nbformat_minor": 2,
 "cells": [
  {
   "cell_type": "code",
   "execution_count": 2,
   "metadata": {},
   "outputs": [],
   "source": [
    "import findspark\n",
    "findspark.init()\n",
    "# Creating Spark Context\n",
    "from pyspark import SparkContext\n",
    "from pyspark.sql.session import SparkSession\n",
    "sc = SparkContext(\"local\", \"first app\")\n",
    "spark = SparkSession(sc)\n",
    "import plotly.graph_objects as go\n",
    "from pyspark.sql import SQLContext\n",
    "sqlContext = SQLContext(sc)"
   ]
  },
  {
   "cell_type": "code",
   "execution_count": 3,
   "metadata": {},
   "outputs": [],
   "source": [
    "text_file = sqlContext.read.format('com.databricks.spark.csv').options(header='true', inferschema='true', quote='\"', delimiter=',').load(\"C:\\\\Users\\\\mini_\\\\Desktop\\Practica-Semi2\\\\archivos\\\\TraficoAereoGt.csv\")\n",
    "rddfiltro = text_file.rdd.map(tuple)"
   ]
  },
  {
   "cell_type": "code",
   "execution_count": 4,
   "metadata": {},
   "outputs": [
    {
     "output_type": "execute_result",
     "data": {
      "text/plain": [
       "[('Coatepeque', 3607),\n",
       " ('Coatepeque', 5261),\n",
       " ('Coatepeque', 629),\n",
       " ('Coatepeque', 3690),\n",
       " ('Coatepeque', 307),\n",
       " ('Coatepeque', 4064),\n",
       " ('Coatepeque', 2144),\n",
       " ('Coatepeque', 4469),\n",
       " ('Coatepeque', 3248),\n",
       " ('Coatepeque', 5078)]"
      ]
     },
     "metadata": {},
     "execution_count": 4
    }
   ],
   "source": [
    "#se toman los aeropuertos y aterrizajes \n",
    "rddAERO= rddfiltro.map(lambda word: (word[2],word[3]))\n",
    "rddAERO.take(10)"
   ]
  },
  {
   "cell_type": "code",
   "execution_count": 5,
   "metadata": {},
   "outputs": [
    {
     "output_type": "stream",
     "name": "stdout",
     "text": [
      "Conteo total -> [('Coatepeque', 167223), ('Huehuetenango', 198734), ('Poptun', 173559), ('Puerto Barros', 203204), ('Mundo Maya', 170385), ('La Aurora', 150513), ('Puerto San Jose', 162211), ('Quetzaltenango', 194403), ('Retalhuleu', 174374), ('San Marcos', 208806)]\n"
     ]
    }
   ],
   "source": [
    "#se suman todos los aterrizajes reduciendo por la clave aeropuerto\n",
    "rddCONT=rddAERO.reduceByKey(lambda a,b: a+b)\n",
    "print(\"Conteo total -> %s\" % rddCONT.collect())"
   ]
  },
  {
   "cell_type": "code",
   "execution_count": 11,
   "metadata": {},
   "outputs": [],
   "source": [
    "#se orden los valores\n",
    "rddCONT = rddCONT.sortBy(lambda a: a[1],False)"
   ]
  },
  {
   "cell_type": "code",
   "execution_count": 12,
   "metadata": {},
   "outputs": [
    {
     "output_type": "stream",
     "name": "stdout",
     "text": [
      "['San Marcos', 'Puerto Barros', 'Huehuetenango', 'Quetzaltenango', 'Retalhuleu', 'Poptun', 'Mundo Maya', 'Coatepeque', 'Puerto San Jose', 'La Aurora']\n",
      "[208806, 203204, 198734, 194403, 174374, 173559, 170385, 167223, 162211, 150513]\n"
     ]
    }
   ],
   "source": [
    "#se separan los nombre de los aeropuertos y totales\n",
    "rddNombres = rddCONT.map(lambda x: (x[0]))\n",
    "rddTotales = rddCONT.map(lambda x: (x[1]))\n",
    "print(rddNombres.collect())\n",
    "print(rddTotales.collect())"
   ]
  },
  {
   "cell_type": "code",
   "execution_count": 13,
   "metadata": {},
   "outputs": [],
   "source": [
    "#se realiza la gráfica de barras\n",
    "fig = go.Figure(data=go.Bar(x=rddNombres.collect(),y=rddTotales.collect()))\n",
    "fig.update_layout(title_text='Total de aterrizajes por aeropuertos',title_font_size=30,\n",
    "                  yaxis=dict(title='Total de Aterrizajes',title_font_size=25),\n",
    "                  xaxis=dict(title='Nombre Cajero',title_font_size=25))\n",
    "fig.update_traces(overwrite=True, marker={\"opacity\": 0.5})\n",
    "fig.write_html('R1_A2.html', auto_open=True)"
   ]
  },
  {
   "cell_type": "code",
   "execution_count": null,
   "metadata": {},
   "outputs": [],
   "source": []
  }
 ]
}